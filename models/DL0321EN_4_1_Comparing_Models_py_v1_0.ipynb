{
  "nbformat": 4,
  "nbformat_minor": 0,
  "metadata": {
    "kernelspec": {
      "name": "python3",
      "display_name": "Python 3"
    },
    "colab": {
      "name": "DL0321EN-4-1-Comparing-Models-py-v1.0.ipynb",
      "provenance": [],
      "include_colab_link": true
    },
    "accelerator": "GPU",
    "language_info": {
      "name": "python"
    }
  },
  "cells": [
    {
      "cell_type": "markdown",
      "metadata": {
        "id": "view-in-github",
        "colab_type": "text"
      },
      "source": [
        "<a href=\"https://colab.research.google.com/github/karencfisher/IBM-AI-Prof.-Certificate-Capstone/blob/main/models/DL0321EN_4_1_Comparing_Models_py_v1_0.ipynb\" target=\"_parent\"><img src=\"https://colab.research.google.com/assets/colab-badge.svg\" alt=\"Open In Colab\"/></a>"
      ]
    },
    {
      "cell_type": "markdown",
      "metadata": {
        "button": false,
        "deletable": true,
        "new_sheet": false,
        "run_control": {
          "read_only": false
        },
        "id": "TxzH4ufbp1nq"
      },
      "source": [
        "<a href=\"https://cognitiveclass.ai\"><img src = \"https://s3-api.us-geo.objectstorage.softlayer.net/cf-courses-data/CognitiveClass/Logos/organization_logo/organization_logo.png\" width = 400> </a>\n",
        "\n",
        "<h1 align=center><font size = 5>Peer Review Final Assignment</font></h1>"
      ]
    },
    {
      "cell_type": "markdown",
      "metadata": {
        "button": false,
        "deletable": true,
        "new_sheet": false,
        "run_control": {
          "read_only": false
        },
        "id": "D475Llwcp1ns"
      },
      "source": [
        "## Introduction\n"
      ]
    },
    {
      "cell_type": "markdown",
      "metadata": {
        "button": false,
        "deletable": true,
        "new_sheet": false,
        "run_control": {
          "read_only": false
        },
        "id": "G6TBFVssp1nt"
      },
      "source": [
        "In this lab, you will build an image classifier using the VGG16 pre-trained model, and you will evaluate it and compare its performance to the model we built in the last module using the ResNet50 pre-trained model. Good luck!"
      ]
    },
    {
      "cell_type": "markdown",
      "metadata": {
        "button": false,
        "deletable": true,
        "new_sheet": false,
        "run_control": {
          "read_only": false
        },
        "id": "B70BxhMPp1nt"
      },
      "source": [
        "## Table of Contents\n",
        "\n",
        "<div class=\"alert alert-block alert-info\" style=\"margin-top: 20px\">\n",
        "\n",
        "<font size = 3>    \n",
        "\n",
        "1. <a href=\"#item41\">Download Data \n",
        "2. <a href=\"#item42\">Part 1</a>\n",
        "3. <a href=\"#item43\">Part 2</a>  \n",
        "4. <a href=\"#item44\">Part 3</a>  \n",
        "\n",
        "</font>\n",
        "    \n",
        "</div>"
      ]
    },
    {
      "cell_type": "markdown",
      "metadata": {
        "button": false,
        "deletable": true,
        "new_sheet": false,
        "run_control": {
          "read_only": false
        },
        "id": "j_-tL1RRp1nu"
      },
      "source": [
        "   "
      ]
    },
    {
      "cell_type": "markdown",
      "metadata": {
        "id": "d1YrwRkLp1nu"
      },
      "source": [
        "<a id=\"item41\"></a>"
      ]
    },
    {
      "cell_type": "markdown",
      "metadata": {
        "id": "rFzAgooQKqdO"
      },
      "source": [
        "### Where I am storing trained models for quick use\n",
        "\n",
        "On my Google Drive"
      ]
    },
    {
      "cell_type": "code",
      "metadata": {
        "id": "8pqI7HBwKXUz",
        "outputId": "afad909e-e28c-4047-ecf5-f782f43dafdc",
        "colab": {
          "base_uri": "https://localhost:8080/"
        }
      },
      "source": [
        "from google.colab import drive\n",
        "drive.mount('/content/drive')\n",
        "\n",
        "my_path = '/content/drive/MyDrive/model'"
      ],
      "execution_count": 1,
      "outputs": [
        {
          "output_type": "stream",
          "name": "stdout",
          "text": [
            "Mounted at /content/drive\n"
          ]
        }
      ]
    },
    {
      "cell_type": "markdown",
      "metadata": {
        "id": "iYgz_Rc2p1nu"
      },
      "source": [
        "## Download Data"
      ]
    },
    {
      "cell_type": "markdown",
      "metadata": {
        "id": "OH0tnpP7p1nu"
      },
      "source": [
        "Use the <code>wget</code> command to download the data for this assignment from here: https://s3-api.us-geo.objectstorage.softlayer.net/cf-courses-data/CognitiveClass/DL0321EN/data/concrete_data_week4.zip"
      ]
    },
    {
      "cell_type": "markdown",
      "metadata": {
        "id": "iJMjnebQp1nu"
      },
      "source": [
        "Use the following cells to download the data."
      ]
    },
    {
      "cell_type": "code",
      "metadata": {
        "colab": {
          "base_uri": "https://localhost:8080/"
        },
        "id": "o4ZtxktHp1nv",
        "outputId": "e921aa54-0f02-42c2-e817-552320e081e0"
      },
      "source": [
        "!wget https://s3-api.us-geo.objectstorage.softlayer.net/cf-courses-data/CognitiveClass/DL0321EN/data/concrete_data_week4.zip"
      ],
      "execution_count": 4,
      "outputs": [
        {
          "output_type": "stream",
          "name": "stdout",
          "text": [
            "--2021-11-07 02:14:22--  https://s3-api.us-geo.objectstorage.softlayer.net/cf-courses-data/CognitiveClass/DL0321EN/data/concrete_data_week4.zip\n",
            "Resolving s3-api.us-geo.objectstorage.softlayer.net (s3-api.us-geo.objectstorage.softlayer.net)... 67.228.254.196\n",
            "Connecting to s3-api.us-geo.objectstorage.softlayer.net (s3-api.us-geo.objectstorage.softlayer.net)|67.228.254.196|:443... connected.\n",
            "HTTP request sent, awaiting response... 200 OK\n",
            "Length: 261483817 (249M) [application/zip]\n",
            "Saving to: ‘concrete_data_week4.zip’\n",
            "\n",
            "concrete_data_week4 100%[===================>] 249.37M  23.6MB/s    in 9.6s    \n",
            "\n",
            "2021-11-07 02:14:32 (26.0 MB/s) - ‘concrete_data_week4.zip’ saved [261483817/261483817]\n",
            "\n"
          ]
        }
      ]
    },
    {
      "cell_type": "code",
      "metadata": {
        "id": "qsd69ivHp1nv"
      },
      "source": [
        "!unzip -q concrete_data_week4.zip"
      ],
      "execution_count": 5,
      "outputs": []
    },
    {
      "cell_type": "markdown",
      "metadata": {
        "id": "BsOKrnun7Tvp"
      },
      "source": [
        "### I have a utilities module I can use a metrics function I may be able to use to compare the models."
      ]
    },
    {
      "cell_type": "code",
      "metadata": {
        "colab": {
          "base_uri": "https://localhost:8080/"
        },
        "id": "ZK8Y3y0c7QYC",
        "outputId": "bc5f145a-71bb-46e4-fd2c-6ab85d1cffe4"
      },
      "source": [
        "!wget https://raw.githubusercontent.com/karencfisher/COVID19/main/tools/util.py"
      ],
      "execution_count": 6,
      "outputs": [
        {
          "output_type": "stream",
          "name": "stdout",
          "text": [
            "--2021-11-07 02:14:51--  https://raw.githubusercontent.com/karencfisher/COVID19/main/tools/util.py\n",
            "Resolving raw.githubusercontent.com (raw.githubusercontent.com)... 185.199.108.133, 185.199.111.133, 185.199.109.133, ...\n",
            "Connecting to raw.githubusercontent.com (raw.githubusercontent.com)|185.199.108.133|:443... connected.\n",
            "HTTP request sent, awaiting response... 200 OK\n",
            "Length: 5978 (5.8K) [text/plain]\n",
            "Saving to: ‘util.py’\n",
            "\n",
            "\rutil.py               0%[                    ]       0  --.-KB/s               \rutil.py             100%[===================>]   5.84K  --.-KB/s    in 0s      \n",
            "\n",
            "2021-11-07 02:14:51 (40.7 MB/s) - ‘util.py’ saved [5978/5978]\n",
            "\n"
          ]
        }
      ]
    },
    {
      "cell_type": "markdown",
      "metadata": {
        "id": "XqFimRF-p1nv"
      },
      "source": [
        "After you unzip the data, you fill find the data has already been divided into a train, validation, and test sets."
      ]
    },
    {
      "cell_type": "markdown",
      "metadata": {
        "button": false,
        "deletable": true,
        "new_sheet": false,
        "run_control": {
          "read_only": false
        },
        "id": "XH_mun4yp1nx"
      },
      "source": [
        "<a id=\"item42\"></a>"
      ]
    },
    {
      "cell_type": "markdown",
      "metadata": {
        "id": "uo_8YHjqp1nx"
      },
      "source": [
        "## Part 1"
      ]
    },
    {
      "cell_type": "markdown",
      "metadata": {
        "id": "PSLgLvxqp1nx"
      },
      "source": [
        "In this part, you will design a classifier using the VGG16 pre-trained model. Just like the ResNet50 model, you can import the model <code>VGG16</code> from <code>keras.applications</code>."
      ]
    },
    {
      "cell_type": "markdown",
      "metadata": {
        "id": "PBqXiB9Ep1nx"
      },
      "source": [
        "You will essentially build your classifier as follows:\n",
        "1. Import libraries, modules, and packages you will need. Make sure to import the *preprocess_input* function from <code>keras.applications.vgg16</code>.\n",
        "2. Use a batch size of 100 images for both training and validation.\n",
        "3. Construct an ImageDataGenerator for the training set and another one for the validation set. VGG16 was originally trained on 224 × 224 images, so make sure to address that when defining the ImageDataGenerator instances.\n",
        "4. Create a sequential model using Keras. Add VGG16 model to it and dense layer.\n",
        "5. Compile the mode using the adam optimizer and the categorical_crossentropy loss function.\n",
        "6. Fit the model on the augmented data using the ImageDataGenerators."
      ]
    },
    {
      "cell_type": "markdown",
      "metadata": {
        "id": "k_VrOID-p1ny"
      },
      "source": [
        "Use the following cells to create your classifier."
      ]
    },
    {
      "cell_type": "code",
      "metadata": {
        "id": "1rgfbmRqp1ny"
      },
      "source": [
        "import os\n",
        "import numpy as np\n",
        "import matplotlib.pyplot as plt\n",
        "\n",
        "from sklearn.metrics import accuracy_score, confusion_matrix\n",
        "from tensorflow.keras.preprocessing.image import ImageDataGenerator\n",
        "from tensorflow.keras.models import Model, load_model\n",
        "from tensorflow.keras.layers import Dense, GlobalAveragePooling2D, Dropout\n",
        "from tensorflow.keras.applications.vgg16 import VGG16, preprocess_input\n",
        "from tensorflow.keras.callbacks import EarlyStopping\n",
        "\n",
        "from util import model_metrics\n"
      ],
      "execution_count": 7,
      "outputs": []
    },
    {
      "cell_type": "markdown",
      "metadata": {
        "id": "dHk8bEUZylLH"
      },
      "source": [
        "### Build our model "
      ]
    },
    {
      "cell_type": "code",
      "metadata": {
        "colab": {
          "base_uri": "https://localhost:8080/"
        },
        "id": "S0zlR_etp1nz",
        "outputId": "aede203e-6ab0-40fe-bf43-f11cccbfbc31"
      },
      "source": [
        "# Load instance of the VGG16 model \n",
        "base_model = VGG16(include_top=False, weights='imagenet')\n",
        "\n",
        "# Freeze all layers\n",
        "for layer in base_model.layers:\n",
        "  layer.trainable = False"
      ],
      "execution_count": 8,
      "outputs": [
        {
          "output_type": "stream",
          "name": "stdout",
          "text": [
            "Downloading data from https://storage.googleapis.com/tensorflow/keras-applications/vgg16/vgg16_weights_tf_dim_ordering_tf_kernels_notop.h5\n",
            "58892288/58889256 [==============================] - 1s 0us/step\n",
            "58900480/58889256 [==============================] - 1s 0us/step\n"
          ]
        }
      ]
    },
    {
      "cell_type": "code",
      "metadata": {
        "scrolled": true,
        "colab": {
          "base_uri": "https://localhost:8080/"
        },
        "id": "jGrhwBVRp1nz",
        "outputId": "be1aa00f-1159-4d2c-e8b7-cf315310f6fe"
      },
      "source": [
        "# build our final dense layer(s) on top of it\n",
        "feature_map = base_model.output\n",
        "flat = GlobalAveragePooling2D()(feature_map)\n",
        "output = Dense(2, activation='softmax')(flat)\n",
        "\n",
        "model = Model(inputs=base_model.input, outputs=output)\n",
        "model.summary()"
      ],
      "execution_count": 9,
      "outputs": [
        {
          "output_type": "stream",
          "name": "stdout",
          "text": [
            "Model: \"model\"\n",
            "_________________________________________________________________\n",
            "Layer (type)                 Output Shape              Param #   \n",
            "=================================================================\n",
            "input_1 (InputLayer)         [(None, None, None, 3)]   0         \n",
            "_________________________________________________________________\n",
            "block1_conv1 (Conv2D)        (None, None, None, 64)    1792      \n",
            "_________________________________________________________________\n",
            "block1_conv2 (Conv2D)        (None, None, None, 64)    36928     \n",
            "_________________________________________________________________\n",
            "block1_pool (MaxPooling2D)   (None, None, None, 64)    0         \n",
            "_________________________________________________________________\n",
            "block2_conv1 (Conv2D)        (None, None, None, 128)   73856     \n",
            "_________________________________________________________________\n",
            "block2_conv2 (Conv2D)        (None, None, None, 128)   147584    \n",
            "_________________________________________________________________\n",
            "block2_pool (MaxPooling2D)   (None, None, None, 128)   0         \n",
            "_________________________________________________________________\n",
            "block3_conv1 (Conv2D)        (None, None, None, 256)   295168    \n",
            "_________________________________________________________________\n",
            "block3_conv2 (Conv2D)        (None, None, None, 256)   590080    \n",
            "_________________________________________________________________\n",
            "block3_conv3 (Conv2D)        (None, None, None, 256)   590080    \n",
            "_________________________________________________________________\n",
            "block3_pool (MaxPooling2D)   (None, None, None, 256)   0         \n",
            "_________________________________________________________________\n",
            "block4_conv1 (Conv2D)        (None, None, None, 512)   1180160   \n",
            "_________________________________________________________________\n",
            "block4_conv2 (Conv2D)        (None, None, None, 512)   2359808   \n",
            "_________________________________________________________________\n",
            "block4_conv3 (Conv2D)        (None, None, None, 512)   2359808   \n",
            "_________________________________________________________________\n",
            "block4_pool (MaxPooling2D)   (None, None, None, 512)   0         \n",
            "_________________________________________________________________\n",
            "block5_conv1 (Conv2D)        (None, None, None, 512)   2359808   \n",
            "_________________________________________________________________\n",
            "block5_conv2 (Conv2D)        (None, None, None, 512)   2359808   \n",
            "_________________________________________________________________\n",
            "block5_conv3 (Conv2D)        (None, None, None, 512)   2359808   \n",
            "_________________________________________________________________\n",
            "block5_pool (MaxPooling2D)   (None, None, None, 512)   0         \n",
            "_________________________________________________________________\n",
            "global_average_pooling2d (Gl (None, 512)               0         \n",
            "_________________________________________________________________\n",
            "dense (Dense)                (None, 2)                 1026      \n",
            "=================================================================\n",
            "Total params: 14,715,714\n",
            "Trainable params: 1,026\n",
            "Non-trainable params: 14,714,688\n",
            "_________________________________________________________________\n"
          ]
        }
      ]
    },
    {
      "cell_type": "code",
      "metadata": {
        "id": "O9oC5zehp1nz"
      },
      "source": [
        "# compile our model and have it ready to roll\n",
        "model.compile(optimizer='adam', loss='categorical_crossentropy', metrics=['accuracy'])"
      ],
      "execution_count": 10,
      "outputs": []
    },
    {
      "cell_type": "markdown",
      "metadata": {
        "id": "XPqIAEEkytgF"
      },
      "source": [
        "### Prepare image data generators\n",
        "\n",
        "Create train, validation, and test data generators to import images into the model by batch.\n",
        "\n",
        "(We can add data augmentation to the training generator if it seems of use.)\n",
        "\n",
        "As for batch sizes: it is actually expeditiously to specify batches sizes as powers of 2, e.g. $32 = 2^5$. This has to do with more readily fitting the batch data to memory pages such as in the GPU. At least, I have read such."
      ]
    },
    {
      "cell_type": "code",
      "metadata": {
        "colab": {
          "base_uri": "https://localhost:8080/"
        },
        "id": "5mKE62sCp1nz",
        "outputId": "320a13f3-bc64-43bd-c420-5bada5c1f6da"
      },
      "source": [
        "batch_size = 32\n",
        "target_shape =  (224, 224)\n",
        "classes = ['negative', 'positive']\n",
        "base_dir = 'concrete_data_week4'\n",
        "\n",
        "image_generator = ImageDataGenerator(preprocessing_function=preprocess_input)\n",
        "\n",
        "train_path = os.path.join(base_dir, 'train')\n",
        "train_data = image_generator.flow_from_directory(directory=train_path,\n",
        "                                                 target_size=target_shape,\n",
        "                                                 batch_size=batch_size,\n",
        "                                                 shuffle=True,\n",
        "                                                 class_mode='categorical',\n",
        "                                                 classes=classes)\n",
        "\n",
        "valid_path = os.path.join(base_dir, 'valid')\n",
        "valid_data = image_generator.flow_from_directory(directory=valid_path,\n",
        "                                                 target_size=target_shape,\n",
        "                                                 batch_size=batch_size,\n",
        "                                                 shuffle=False,\n",
        "                                                 class_mode='categorical',\n",
        "                                                 classes=classes)\n",
        "\n",
        "test_path = os.path.join(base_dir, 'test')\n",
        "test_data = image_generator.flow_from_directory(directory=test_path,\n",
        "                                                 target_size=target_shape,\n",
        "                                                 batch_size=batch_size,\n",
        "                                                 shuffle=False,\n",
        "                                                 class_mode='categorical',\n",
        "                                                 classes=classes)"
      ],
      "execution_count": 11,
      "outputs": [
        {
          "output_type": "stream",
          "name": "stdout",
          "text": [
            "Found 30001 images belonging to 2 classes.\n",
            "Found 9501 images belonging to 2 classes.\n",
            "Found 500 images belonging to 2 classes.\n"
          ]
        }
      ]
    },
    {
      "cell_type": "markdown",
      "metadata": {
        "id": "n2KnCHhAzybs"
      },
      "source": [
        "### Prepare to train\n",
        "\n",
        "I like to use EarlyStopping, specifying more epochs than I might anticipate necessary but being able to stop training if it is no longer productive. If accuracy, for example, remains the same (or even regresses) over several epochs, stop the training and save the best weights."
      ]
    },
    {
      "cell_type": "code",
      "metadata": {
        "id": "btVpq50Np1nz"
      },
      "source": [
        "stopping = EarlyStopping(monitor='val_accuracy', \n",
        "                         patience=5,\n",
        "                         restore_best_weights=True)"
      ],
      "execution_count": 12,
      "outputs": []
    },
    {
      "cell_type": "markdown",
      "metadata": {
        "id": "Eb0hxl4K01iq"
      },
      "source": [
        "### And train!\n",
        "\n",
        "Incidently, if you notice I have not used fit_generator(), it is because its use is now deprecated in current versions of Keras, and will be at some point removed altogether in future releases. There is no longer any need for it (or predict_generator() either)."
      ]
    },
    {
      "cell_type": "code",
      "metadata": {
        "colab": {
          "base_uri": "https://localhost:8080/"
        },
        "id": "3w8Zs4lop1n0",
        "outputId": "09224cd0-7eeb-42df-9f48-3ebd56c43667"
      },
      "source": [
        "history = model.fit(train_data,\n",
        "                    epochs=100,\n",
        "                    steps_per_epoch=len(train_data),\n",
        "                    validation_data=valid_data,\n",
        "                    validation_steps=len(valid_data),\n",
        "                    verbose=1,\n",
        "                    callbacks=[stopping])"
      ],
      "execution_count": 13,
      "outputs": [
        {
          "output_type": "stream",
          "name": "stdout",
          "text": [
            "Epoch 1/100\n",
            "938/938 [==============================] - 352s 334ms/step - loss: 0.0655 - accuracy: 0.9777 - val_loss: 0.0153 - val_accuracy: 0.9959\n",
            "Epoch 2/100\n",
            "938/938 [==============================] - 297s 317ms/step - loss: 0.0118 - accuracy: 0.9968 - val_loss: 0.0096 - val_accuracy: 0.9976\n",
            "Epoch 3/100\n",
            "938/938 [==============================] - 297s 317ms/step - loss: 0.0077 - accuracy: 0.9979 - val_loss: 0.0075 - val_accuracy: 0.9980\n",
            "Epoch 4/100\n",
            "938/938 [==============================] - 297s 317ms/step - loss: 0.0060 - accuracy: 0.9987 - val_loss: 0.0061 - val_accuracy: 0.9983\n",
            "Epoch 5/100\n",
            "938/938 [==============================] - 296s 316ms/step - loss: 0.0051 - accuracy: 0.9989 - val_loss: 0.0058 - val_accuracy: 0.9983\n",
            "Epoch 6/100\n",
            "938/938 [==============================] - 297s 317ms/step - loss: 0.0044 - accuracy: 0.9990 - val_loss: 0.0055 - val_accuracy: 0.9978\n",
            "Epoch 7/100\n",
            "938/938 [==============================] - 295s 315ms/step - loss: 0.0038 - accuracy: 0.9991 - val_loss: 0.0054 - val_accuracy: 0.9988\n",
            "Epoch 8/100\n",
            "938/938 [==============================] - 295s 314ms/step - loss: 0.0035 - accuracy: 0.9990 - val_loss: 0.0049 - val_accuracy: 0.9984\n",
            "Epoch 9/100\n",
            "938/938 [==============================] - 295s 314ms/step - loss: 0.0031 - accuracy: 0.9995 - val_loss: 0.0050 - val_accuracy: 0.9984\n",
            "Epoch 10/100\n",
            "938/938 [==============================] - 295s 314ms/step - loss: 0.0029 - accuracy: 0.9994 - val_loss: 0.0062 - val_accuracy: 0.9981\n",
            "Epoch 11/100\n",
            "938/938 [==============================] - 295s 314ms/step - loss: 0.0027 - accuracy: 0.9994 - val_loss: 0.0051 - val_accuracy: 0.9985\n",
            "Epoch 12/100\n",
            "938/938 [==============================] - 294s 314ms/step - loss: 0.0024 - accuracy: 0.9994 - val_loss: 0.0061 - val_accuracy: 0.9981\n"
          ]
        }
      ]
    },
    {
      "cell_type": "code",
      "metadata": {
        "id": "o32-Tup97unS"
      },
      "source": [
        "model_path = os.path.join(my_path, 'vgg16_model.h5')\n",
        "model.save(model_path)"
      ],
      "execution_count": 14,
      "outputs": []
    },
    {
      "cell_type": "markdown",
      "metadata": {
        "id": "pS6n2Vtw4n22"
      },
      "source": [
        "### Plot loss and accuracy over training epochs"
      ]
    },
    {
      "cell_type": "code",
      "metadata": {
        "colab": {
          "base_uri": "https://localhost:8080/",
          "height": 573
        },
        "id": "l8wJdKyBp1n0",
        "outputId": "8812d4fa-b778-4f63-840e-5b7752c26ee3"
      },
      "source": [
        "plt.plot(history.history['accuracy'], 'r', label='Training')\n",
        "plt.plot(history.history['val_accuracy'], 'b', label=\"Validation\")\n",
        "plt.title('Accuracy Training and Validation')\n",
        "plt.ylabel('Accuracy')\n",
        "plt.xlabel('Epoch')\n",
        "plt.legend(loc=0)\n",
        "plt.show()\n",
        "\n",
        "plt.plot(history.history['loss'], 'r', label='Training')\n",
        "plt.plot(history.history['val_loss'], 'b', label=\"Validation\")\n",
        "plt.title('Loss Training and Validation')\n",
        "plt.ylabel('Loss')\n",
        "plt.xlabel('Epoch')\n",
        "plt.legend(loc=0)\n",
        "plt.show()"
      ],
      "execution_count": 15,
      "outputs": [
        {
          "output_type": "display_data",
          "data": {
            "image/png": "[encoded data removed]",
            "text/plain": [
              "<Figure size 432x288 with 1 Axes>"
            ]
          },
          "metadata": {
            "needs_background": "light"
          }
        },
        {
          "output_type": "display_data",
          "data": {
            "image/png": "[encoded data removed]",
            "text/plain": [
              "<Figure size 432x288 with 1 Axes>"
            ]
          },
          "metadata": {
            "needs_background": "light"
          }
        }
      ]
    },
    {
      "cell_type": "markdown",
      "metadata": {
        "id": "SXGY5M6eDBMg"
      },
      "source": [
        "### This will give us quick metrics on the validation data"
      ]
    },
    {
      "cell_type": "code",
      "metadata": {
        "colab": {
          "base_uri": "https://localhost:8080/"
        },
        "id": "xKvMO2vdp1n0",
        "outputId": "d9d30ce1-3a56-413e-acef-9130035af7f6"
      },
      "source": [
        "loss, accuracy = model.evaluate(valid_data, verbose=1)\n",
        "print(f'Final validation loss = {loss} accuracy = {round(accuracy * 100, 2)}%')"
      ],
      "execution_count": 16,
      "outputs": [
        {
          "output_type": "stream",
          "name": "stdout",
          "text": [
            "297/297 [==============================] - 71s 240ms/step - loss: 0.0054 - accuracy: 0.9988\n",
            "Final validation loss = 0.0053613753989338875 accuracy = 99.88%\n"
          ]
        }
      ]
    },
    {
      "cell_type": "markdown",
      "metadata": {
        "id": "tyUAzRf1p1n1"
      },
      "source": [
        "<a id=\"item43\"></a>"
      ]
    },
    {
      "cell_type": "markdown",
      "metadata": {
        "id": "napuvTBJp1n1"
      },
      "source": [
        "## Part 2"
      ]
    },
    {
      "cell_type": "markdown",
      "metadata": {
        "id": "EawDC-12p1n1"
      },
      "source": [
        "In this part, you will evaluate your deep learning models on a test data. For this part, you will need to do the following:\n",
        "\n",
        "1. Load your saved model that was built using the ResNet50 model. \n",
        "2. Construct an ImageDataGenerator for the test set. For this ImageDataGenerator instance, you only need to pass the directory of the test images, target size, and the **shuffle** parameter and set it to False.\n",
        "3. Use the **evaluate_generator** method to evaluate your models on the test data, by passing the above ImageDataGenerator as an argument. You can learn more about **evaluate_generator** [here](https://keras.io/models/sequential/).\n",
        "4. Print the performance of the classifier using the VGG16 pre-trained model.\n",
        "5. Print the performance of the classifier using the ResNet pre-trained model.\n"
      ]
    },
    {
      "cell_type": "markdown",
      "metadata": {
        "id": "a8Oos_D8p1n2"
      },
      "source": [
        "Use the following cells to evaluate your models."
      ]
    },
    {
      "cell_type": "code",
      "metadata": {
        "id": "yJYCSV6Sp1n2"
      },
      "source": [
        "vgg16_path = os.path.join(my_path, 'vgg16_model.h5')\n",
        "vgg16_model = load_model(vgg16_path)\n",
        "\n",
        "resnet_path = os.path.join(my_path, 'resenet_model.h5')\n",
        "resent_model = load_model(resenet_path)"
      ],
      "execution_count": null,
      "outputs": []
    },
    {
      "cell_type": "code",
      "metadata": {
        "id": "jNhKvSNyp1n2"
      },
      "source": [
        ""
      ],
      "execution_count": null,
      "outputs": []
    },
    {
      "cell_type": "code",
      "metadata": {
        "id": "hCqKPRZfp1n2"
      },
      "source": [
        ""
      ],
      "execution_count": null,
      "outputs": []
    },
    {
      "cell_type": "code",
      "metadata": {
        "id": "tWK5j96Jp1n2"
      },
      "source": [
        ""
      ],
      "execution_count": null,
      "outputs": []
    },
    {
      "cell_type": "markdown",
      "metadata": {
        "id": "opePuslNp1n2"
      },
      "source": [
        "   "
      ]
    },
    {
      "cell_type": "markdown",
      "metadata": {
        "id": "LPUucXYpp1n3"
      },
      "source": [
        "<a id=\"item44\"></a>"
      ]
    },
    {
      "cell_type": "markdown",
      "metadata": {
        "id": "YLP8U34tp1n3"
      },
      "source": [
        "## Part 3"
      ]
    },
    {
      "cell_type": "markdown",
      "metadata": {
        "id": "1toBXFdZp1n3"
      },
      "source": [
        "In this model, you will predict whether the images in the test data are images of cracked concrete or not. You will do the following:\n",
        "\n",
        "1. Use the **predict_generator** method to predict the class of the images in the test data, by passing the test data ImageDataGenerator instance defined in the previous part as an argument. You can learn more about the **predict_generator** method [here](https://keras.io/models/sequential/).\n",
        "2. Report the class predictions of the first five images in the test set. You should print something list this:\n",
        "\n",
        "<center>\n",
        "    <ul style=\"list-style-type:none\">\n",
        "        <li>Positive</li>  \n",
        "        <li>Negative</li> \n",
        "        <li>Positive</li>\n",
        "        <li>Positive</li>\n",
        "        <li>Negative</li>\n",
        "    </ul>\n",
        "</center>"
      ]
    },
    {
      "cell_type": "markdown",
      "metadata": {
        "id": "X4vQ_aC-p1n4"
      },
      "source": [
        "Use the following cells to make your predictions."
      ]
    },
    {
      "cell_type": "code",
      "metadata": {
        "id": "4r00P8HKp1n4"
      },
      "source": [
        ""
      ],
      "execution_count": null,
      "outputs": []
    },
    {
      "cell_type": "code",
      "metadata": {
        "id": "LcrSuvr9p1n4"
      },
      "source": [
        ""
      ],
      "execution_count": null,
      "outputs": []
    },
    {
      "cell_type": "code",
      "metadata": {
        "id": "FxwcdAHdp1n4"
      },
      "source": [
        ""
      ],
      "execution_count": null,
      "outputs": []
    },
    {
      "cell_type": "code",
      "metadata": {
        "id": "6jSNJrWPp1n5"
      },
      "source": [
        ""
      ],
      "execution_count": null,
      "outputs": []
    },
    {
      "cell_type": "markdown",
      "metadata": {
        "id": "pVuBC_YIp1n5"
      },
      "source": [
        "  "
      ]
    },
    {
      "cell_type": "markdown",
      "metadata": {
        "button": false,
        "deletable": true,
        "new_sheet": false,
        "run_control": {
          "read_only": false
        },
        "id": "cFSqdNm-p1n5"
      },
      "source": [
        "### Thank you for completing this lab!\n",
        "\n",
        "This notebook was created by Alex Aklson."
      ]
    },
    {
      "cell_type": "markdown",
      "metadata": {
        "button": false,
        "deletable": true,
        "new_sheet": false,
        "run_control": {
          "read_only": false
        },
        "id": "_-HXvYqWp1n5"
      },
      "source": [
        "This notebook is part of a course on **Coursera** called *AI Capstone Project with Deep Learning*. If you accessed this notebook outside the course, you can take this course online by clicking [here](https://cocl.us/DL0321EN_Coursera_Week4_LAB1)."
      ]
    },
    {
      "cell_type": "markdown",
      "metadata": {
        "button": false,
        "deletable": true,
        "new_sheet": false,
        "run_control": {
          "read_only": false
        },
        "id": "OtxWE6Cpp1n5"
      },
      "source": [
        "<hr>\n",
        "\n",
        "Copyright &copy; 2020 [IBM Developer Skills Network](https://cognitiveclass.ai/?utm_source=bducopyrightlink&utm_medium=dswb&utm_campaign=bdu). This notebook and its source code are released under the terms of the [MIT License](https://bigdatauniversity.com/mit-license/)."
      ]
    }
  ]
}